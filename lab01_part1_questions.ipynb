{
 "cells": [
  {
   "cell_type": "markdown",
   "metadata": {},
   "source": [
    "*Credits: materials from this notebook belong to YSDA [Practical DL](https://github.com/yandexdataschool/Practical_DL) course. Special thanks for making them available online.*"
   ]
  },
  {
   "cell_type": "markdown",
   "metadata": {},
   "source": [
    "# Lab assignment №1, part 1\n",
    "\n",
    "This lab assignment consists of several parts. You are supposed to make some transformations, train some models, estimate the quality of the models and explain your results.\n",
    "\n",
    "Several comments:\n",
    "* Don't hesitate to ask questions, it's a good practice.\n",
    "* No private/public sharing, please. The copied assignments will be graded with 0 points.\n",
    "* Blocks of this lab will be graded separately."
   ]
  },
  {
   "cell_type": "markdown",
   "metadata": {},
   "source": [
    "## 1. Matrix differentiation"
   ]
  },
  {
   "cell_type": "markdown",
   "metadata": {},
   "source": [
    "Since it easy to google every task please please please try to undestand what's going on. The \"just answer\" thing will be not counted, make sure to present derivation of your solution. It is absolutely OK if you found an answer on web then just exercise in $\\LaTeX$ copying it into here."
   ]
  },
  {
   "cell_type": "markdown",
   "metadata": {},
   "source": [
    "Useful links: \n",
    "[1](http://www.machinelearning.ru/wiki/images/2/2a/Matrix-Gauss.pdf)\n",
    "[2](http://www.atmos.washington.edu/~dennis/MatrixCalculus.pdf)"
   ]
  },
  {
   "cell_type": "markdown",
   "metadata": {},
   "source": [
    "## ex. 1"
   ]
  },
  {
   "cell_type": "markdown",
   "source": [
    "$\\newcommand{\\epsilon}{\\varepsilon}$\n",
    "$\\newcommand{\\phi}{\\varphi}$\n",
    "$\\newcommand{\\kappa}{\\varkappa}$\n",
    "$\\newcommand{\\le}{\\ \\leqslant\\ }$\n",
    "$\\newcommand{\\ge}{\\ \\geqslant\\ }$\n",
    "$\\newcommand{\\emptyset}{\\varnothing}$\n",
    "$\\newcommand{\\qed}{\\hspace{1cm} \\blacktriangleright}$\n",
    "$\\newcommand{\\d}{\\partial}$\n",
    "$\\newcommand{\\grad}{\\nabla}$\n",
    "$\\newcommand{\\l}{\\left}$\n",
    "$\\newcommand{\\r}{\\right}$\n",
    "$\\newcommand{\\la}{\\langle}$\n",
    "$\\newcommand{\\ra}{\\rangle}$\n",
    "$\\newcommand{\\imp}{\\hspace{0.3cm}\\implies\\hspace{0.3cm}}$"
   ],
   "metadata": {
    "collapsed": false
   }
  },
  {
   "cell_type": "markdown",
   "metadata": {},
   "source": [
    "$$  \n",
    "y = x^Tx,  \\quad x \\in \\mathbb{R}^n\n",
    "$$"
   ]
  },
  {
   "cell_type": "markdown",
   "metadata": {},
   "source": [
    "$$\n",
    "\\frac{dy}{dx} = ?\n",
    "$$ "
   ]
  },
  {
   "cell_type": "markdown",
   "source": [
    "$y \\in \\mathbb{R} \\implies \\dfrac{dy}{dx} \\in  \\mathbb{R}^{1 \\times n}$\n",
    "$$ \n",
    "x^T = (x_1, \\ldots, x_n) \\implies y = x^Tx = \\sum_{i=1}^n x_i^2 \\implies \\l(\\dfrac{dy}{dx}\\r)_i = \\dfrac{dx_i^2}{dx_i} = 2x_i \\implies \\dfrac{dy}{dx} = \\boxed{2x^T}\n",
    "$$"
   ],
   "metadata": {
    "collapsed": false
   }
  },
  {
   "cell_type": "markdown",
   "metadata": {},
   "source": [
    "## ex. 2"
   ]
  },
  {
   "cell_type": "markdown",
   "metadata": {},
   "source": [
    "$$ y = Tr(AB) \\quad A,B \\in \\mathbb{R}^{n \\times n} $$ "
   ]
  },
  {
   "cell_type": "markdown",
   "metadata": {},
   "source": [
    "$$\n",
    "\\frac{dy}{dA} = ?\n",
    "$$"
   ]
  },
  {
   "cell_type": "markdown",
   "source": [
    "$y \\in \\mathbb{R} \\implies \\dfrac{dy}{dA} \\in  \\mathbb{R}^{n \\times n}$\n",
    "$$ \n",
    "y = Tr(AB) = \\sum_{i=1}^n \\sum_{j=1}^n a_{ij}b_{ji} \\implies \\l(\\dfrac{dy}{dA}\\r)_{i,j} = b_{ji} \\implies \\dfrac{dy}{dA} = \\boxed{B^T} \n",
    "$$"
   ],
   "metadata": {
    "collapsed": false
   }
  },
  {
   "cell_type": "markdown",
   "metadata": {},
   "source": [
    "## ex. 3"
   ]
  },
  {
   "cell_type": "markdown",
   "metadata": {},
   "source": [
    "$$  \n",
    "y = x^TAc , \\quad A\\in \\mathbb{R}^{n \\times n},\\ x\\in \\mathbb{R}^{n},\\ c\\in \\mathbb{R}^{n} \n",
    "$$"
   ]
  },
  {
   "cell_type": "markdown",
   "metadata": {},
   "source": [
    "$$\n",
    "\\frac{dy}{dx} = ?\n",
    "$$"
   ]
  },
  {
   "cell_type": "markdown",
   "source": [
    "$y \\in \\mathbb{R} \\implies \\dfrac{dy}{dx} \\in  \\mathbb{R}^{1 \\times n}$\n",
    "$$\n",
    "y = x^TAc = (x_1, \\ldots, x_n) \\cdot \\l(\\sum_{i=1}^n a_{1i}c_i\\ , \\ldots, \\sum_{i=1}^n a_{ni}c_i\\r)^T = \\sum_{k=1}^n \\l( x_k\\cdot\\sum_{i=1}^n a_{ki}c_i \\r) \\implies \\l(\\dfrac{dy}{dx}\\r)_k = \\sum_{i=1}^n a_{ki}c_i \\implies \\dfrac{dy}{dx} = (Ac)^T = \\boxed{c^TA^T} \n",
    "$$"
   ],
   "metadata": {
    "collapsed": false
   }
  },
  {
   "cell_type": "markdown",
   "metadata": {},
   "source": [
    "$$\n",
    "\\frac{dy}{dA} = ?\n",
    "$$ "
   ]
  },
  {
   "cell_type": "markdown",
   "source": [
    "$y \\in \\mathbb{R} \\implies \\dfrac{dy}{dA} \\in  \\mathbb{R}^{n \\times n}$\n",
    "$$\n",
    "y = \\sum_{k=1}^n \\l( x_k\\cdot\\sum_{i=1}^n a_{ki}c_i \\r) = \\sum_{k=1}^n \\sum_{i=1}^n a_{ki}c_ix_k \\implies \\l(\\dfrac{dy}{dA}\\r)_{k,i} = x_kc_i \\implies \\dfrac{dy}{dA} = \\boxed{xc^T}\n",
    "$$"
   ],
   "metadata": {
    "collapsed": false
   }
  },
  {
   "cell_type": "markdown",
   "metadata": {},
   "source": [
    "Hint for the latter (one of the ways): use *ex. 2* result and the fact \n",
    "$$\n",
    "tr(ABC) = tr (CAB)\n",
    "$$"
   ]
  },
  {
   "cell_type": "markdown",
   "metadata": {},
   "source": [
    "## ex. 4"
   ]
  },
  {
   "cell_type": "markdown",
   "metadata": {},
   "source": [
    "Classic matrix factorization example. Given matrix $X$ you need to find $A$, $S$ to approximate $X$. This can be done by simple gradient descent iteratively alternating $A$ and $S$ updates.\n",
    "$$\n",
    "J = || X - AS ||_F^2  , \\quad A\\in \\mathbb{R}^{n \\times r} , \\quad S\\in \\mathbb{R}^{r \\times m}\n",
    "$$\n",
    "$$\n",
    "\\frac{dJ}{dS} = ? \n",
    "$$\n",
    "\n",
    "You may use one of the following approaches:"
   ]
  },
  {
   "cell_type": "markdown",
   "metadata": {},
   "source": [
    "#### First approach\n",
    "Using ex.2 and the fact:\n",
    "$$\n",
    "|| X ||_F^2 = Tr(XX^T) \n",
    "$$ \n",
    "it is easy to derive gradients (you can find it in one of the refs). "
   ]
  },
  {
   "cell_type": "markdown",
   "metadata": {},
   "source": [
    "#### Second approach\n",
    "You can use *slightly different techniques* if they suits you. Take a look at this derivation:\n",
    "<img src=\"grad.png\">\n",
    "(excerpt from [Handbook of blind source separation, Jutten, page 517](https://books.google.ru/books?id=PTbj03bYH6kC&printsec=frontcover&dq=Handbook+of+Blind+Source+Separation&hl=en&sa=X&ved=0ahUKEwi-q_apiJDLAhULvXIKHVXJDWcQ6AEIHDAA#v=onepage&q=Handbook%20of%20Blind%20Source%20Separation&f=false), open for better picture)."
   ]
  },
  {
   "cell_type": "markdown",
   "metadata": {},
   "source": [
    "#### Third approach\n",
    "And finally we can use chain rule! \n",
    "let $ F = AS \\implies F \\in \\mathbb{R}^{n \\times m}$ \n",
    "\n",
    "**Find**"
   ]
  },
  {
   "cell_type": "markdown",
   "source": [
    "$$\n",
    "\\frac{dJ}{dF} = ? \n",
    "$$ "
   ],
   "metadata": {
    "collapsed": false
   }
  },
  {
   "cell_type": "markdown",
   "source": [
    "$$J = ||X - AS||_F^2 = Tr\\l[(X - AS)(X-AS)^T\\r] = \\{F = AS\\} = Tr\\l[(X-F)(X-F)^T\\r] = Tr\\l[X(X-F)^T\\r] - Tr\\l[F(X-F)^T\\r] $$\n",
    "$$ = Tr\\l[(X-F)X^T\\r] - Tr\\l[(X-F)F^T\\r] = Tr\\l(XX^T\\r) - Tr\\l(FX^T\\r) - Tr\\l(XF^T\\r) + Tr\\l(FF^T\\r) = Tr\\l(FF^T\\r) - 2Tr\\l(FX^T\\r) + Tr\\l(XX^T\\r)$$\n",
    "\n",
    "$\\vspace{2cm}J \\in \\mathbb{R} \\implies \\dfrac{d J}{d F} \\in \\mathbb{R}^{n \\times m}$\n",
    "$$\n",
    "\\dfrac{d J}{d F} = \\dfrac{d Tr\\l(FF^T\\r)}{d F} - 2\\cdot\\dfrac{dTr\\l(FX^T\\r)}{dF} = \\{ex.2\\} = 2F - 2X = 2\\l(F - X\\r)\n",
    "$$"
   ],
   "metadata": {
    "collapsed": false
   }
  },
  {
   "cell_type": "markdown",
   "source": [
    "and \n",
    "$$\n",
    "\\frac{dF}{dS} = ?\n",
    "$$ \n",
    "(the shape should be $ NM \\times RM )$."
   ],
   "metadata": {
    "collapsed": false
   }
  },
  {
   "cell_type": "markdown",
   "source": [
    "$$\n",
    "f_{ij} = F_{i,j} = (AS)_{i,j} = \\sum_{k=1}^r a_{ik} \\cdot s_{kj} \\hspace{2cm} S_{w,v} = s_{wv}\n",
    "$$\n",
    "$$\n",
    "\\dfrac{d f_{ij}}{d s_{wv}} =\n",
    "\\begin{cases} \n",
    "a_{iw} \\hspace{0.6cm} v = j\n",
    "\\\\ \n",
    "\\\\\n",
    "0 \\hspace{1cm} v \\neq j\n",
    "\\end{cases}\n",
    "$$\n",
    "$$\n",
    "\\dfrac{d f_{ij}}{dS} = \n",
    "\\begin{pmatrix}\n",
    "     0& \\ldots&      0&  a_{i1}&      0& \\ldots&      0&\\\\\n",
    "\\vdots& \\ddots& \\vdots& \\vdots& \\vdots& \\ddots& \\vdots&\\\\\n",
    "     0& \\ldots&      0& a_{ir}&      0& \\ldots&      0&\\\\\n",
    "\\end{pmatrix} \n",
    "\\in \\mathbb{R}^{r \\times m}\n",
    "$$\n",
    "$\\hspace{22.3cm} j\\text{-тый  столбец}$"
   ],
   "metadata": {
    "collapsed": false
   }
  },
  {
   "cell_type": "markdown",
   "source": [
    "Now it is easy do get desired gradients:\n",
    "$$\n",
    "\\dfrac{dJ}{dS} = \\dfrac{dJ}{dF} \\cdot \\dfrac{dF}{dS} \n",
    "$$ "
   ],
   "metadata": {
    "collapsed": false
   }
  },
  {
   "cell_type": "markdown",
   "metadata": {
    "collapsed": true
   },
   "source": [
    "## 2. kNN questions\n",
    "Here come the questions from the assignment0_01. Please, refer to the assignment0_01 to get the context of the questions."
   ]
  },
  {
   "cell_type": "markdown",
   "metadata": {},
   "source": [
    "### Question 1\n",
    "\n",
    "Notice the structured patterns in the distance matrix, where some rows or columns are visible brighter. (Note that with the default color scheme black indicates low distances while white indicates high distances.)\n",
    "\n",
    "- What in the data is the cause behind the distinctly bright rows?\n",
    "- What causes the columns?\n",
    "\n",
    "*Your Answer:*\n",
    "1) Причиной светлой строки может быть тот факт, что данная картинка из X_test значительно выделяется среди остальных тестовых(уникально тусклые цвета или необычный почерк и т.д.)\n",
    "2) Аналогично, столбец оказывается светлым, если данная картинка из X_train сильно отличается от остальных."
   ]
  },
  {
   "cell_type": "markdown",
   "metadata": {},
   "source": [
    "### Question 2\n",
    "\n",
    "We can also use other distance metrics such as L1 distance.\n",
    "For pixel values $p_{ij}^{(k)}$ at location $(i,j)$ of some image $I_k$, \n",
    "\n",
    "the mean $\\mu$ across all pixels over all images is $$\\mu=\\frac{1}{nhw}\\sum_{k=1}^n\\sum_{i=1}^{h}\\sum_{j=1}^{w}p_{ij}^{(k)}$$\n",
    "And the pixel-wise mean $\\mu_{ij}$ across all images is \n",
    "$$\\mu_{ij}=\\frac{1}{n}\\sum_{k=1}^np_{ij}^{(k)}.$$\n",
    "The general standard deviation $\\sigma$ and pixel-wise standard deviation $\\sigma_{ij}$ is defined similarly.\n",
    "\n",
    "Which of the following preprocessing steps will not change the performance of a Nearest Neighbor classifier that uses L1 distance? Select all that apply.\n",
    "1. Subtracting the mean $\\mu$ ($\\tilde{p}_{ij}^{(k)}=p_{ij}^{(k)}-\\mu$.)\n",
    "2. Subtracting the per pixel mean $\\mu_{ij}$  ($\\tilde{p}_{ij}^{(k)}=p_{ij}^{(k)}-\\mu_{ij}$.)\n",
    "3. Subtracting the mean $\\mu$ and dividing by the standard deviation $\\sigma$.\n",
    "4. Subtracting the pixel-wise mean $\\mu_{ij}$ and dividing by the pixel-wise standard deviation $\\sigma_{ij}$.\n",
    "5. Rotating the coordinate axes of the data."
   ]
  },
  {
   "cell_type": "markdown",
   "source": [
    "*Your Answer:* 1, 2, 3\n",
    "\n",
    "\n",
    "*Your Explanation:*\n",
    "\n",
    "1. $\\tilde{p}_{ij}^{(k)} - \\tilde{p}_{ij}^{(m)} = ({p}_{ij}^{(k)} - \\mu) - ({p}_{ij}^{(m)} - \\mu) = {p}_{ij}^{(k)} - {p}_{ij}^{(m)}$ попарные расстояния между соответствующими пикселями двух картинок не изменятся \n",
    "2. $\\tilde{p}_{ij}^{(k)} - \\tilde{p}_{ij}^{(m)} = ({p}_{ij}^{(k)} - \\mu_{ij}) - ({p}_{ij}^{(m)} - \\mu_{ij}) = {p}_{ij}^{(k)} - {p}_{ij}^{(m)}$ попарные расстояния между соответствующими пикселями двух картинок не изменятся\n",
    "3. $\\tilde{p}_{ij}^{(k)} - \\tilde{p}_{ij}^{(m)} = \\dfrac{1}{\\sigma}({p}_{ij}^{(k)} - \\mu) - \\dfrac{1}{\\sigma}({p}_{ij}^{(m)} - \\mu) = \\dfrac{1}{\\sigma}({p}_{ij}^{(k)} - {p}_{ij}^{(m)})$ попарные расстояния между соответствующими пикселями двух картинок домножатся на одно и то же число $\\dfrac{1}{\\sigma}$, значит соотношения (ближе/дальше) между расстояниями останутся прежними\n",
    "4. $\\tilde{p}_{ij}^{(k)} - \\tilde{p}_{ij}^{(m)} = \\dfrac{1}{\\sigma_{ij}}({p}_{ij}^{(k)} - \\mu_{ij}) - \\dfrac{1}{\\sigma_{ij}}({p}_{ij}^{(m)} - \\mu_{ij}) = \\dfrac{1}{\\sigma_{ij}}({p}_{ij}^{(k)} - {p}_{ij}^{(m)})$ а вот здесь уже множители вида $\\dfrac{1}{\\sigma_{ij}}$ могут повлиять на соотношения между расстояниями\n",
    "5. Поворот, конечно, может повлиять на соотношение расстояний в $L_1$ метрике (а вот на $L_2$, к примеру, нет)."
   ],
   "metadata": {
    "collapsed": false
   }
  },
  {
   "cell_type": "markdown",
   "metadata": {},
   "source": [
    "## Question 3\n",
    "\n",
    "Which of the following statements about $k$-Nearest Neighbor ($k$-NN) are true in a classification setting, and for all $k$? Select all that apply.\n",
    "1. The decision boundary (hyperplane between classes in feature space) of the k-NN classifier is linear.\n",
    "2. The training error of a 1-NN will always be lower than that of 5-NN.\n",
    "3. The test error of a 1-NN will always be lower than that of a 5-NN.\n",
    "4. The time needed to classify a test example with the k-NN classifier grows with the size of the training set.\n",
    "5. None of the above."
   ]
  },
  {
   "cell_type": "markdown",
   "source": [
    "*Your Answer:* 2, 4\n",
    "\n",
    "\n",
    "*Your Explanation:*\n",
    "1. Неверно, ведь мы работаем с $L_2$ - метрикой, так что разделительная кривая отнюдь не обязана быть (гипер)плоскостью\n",
    "2. Разумеется, ведь training error при k=1 всегда равна 0.\n",
    "3. С чего бы...\n",
    "4. Разумеется, ведь мы сравниваем каждый тестовый объект со всеми из training set"
   ],
   "metadata": {
    "collapsed": false
   }
  }
 ],
 "metadata": {
  "kernelspec": {
   "name": "python3",
   "language": "python",
   "display_name": "Python 3 (ipykernel)"
  },
  "language_info": {
   "codemirror_mode": {
    "name": "ipython",
    "version": 3
   },
   "file_extension": ".py",
   "mimetype": "text/x-python",
   "name": "python",
   "nbconvert_exporter": "python",
   "pygments_lexer": "ipython3",
   "version": "3.9.5"
  }
 },
 "nbformat": 4,
 "nbformat_minor": 4
}
