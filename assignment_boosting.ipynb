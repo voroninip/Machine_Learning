{
 "cells": [
  {
   "cell_type": "markdown",
   "id": "119c9460",
   "metadata": {},
   "source": [
    "## Home assignment 06: Gradient boosting with MSE\n",
    "\n",
    "Please, fill the lines in the code below.\n",
    "This is a simplified version of `BoostingRegressor` from `sklearn`. Please, notice, that `sklearn` API is **not preserved**.\n",
    "\n",
    "Your algorithm should be able to train different numbers of instances of the same model class. Every target is computed according to the loss function gradient. In this particular case, loss is computed for MSE.\n",
    "\n",
    "The model should be passed as model class with no explicit parameters and no parentheses.\n",
    "\n",
    "Example:\n",
    "```\n",
    "import numpy as np\n",
    "from sklearn.tree import DecisionTreeRegressor\n",
    "\n",
    "boosting_regressor = SimplifiedBoostingRegressor()    \n",
    "boosting_regressor.fit(DecisionTreeRegressor, X, y, 100, 0.5, 10)\n",
    "\n",
    "\n",
    "```"
   ]
  },
  {
   "cell_type": "code",
   "execution_count": 240,
   "id": "31ecde34",
   "metadata": {
    "ExecuteTime": {
     "end_time": "2023-11-06T22:57:54.663907400Z",
     "start_time": "2023-11-06T22:57:54.646924Z"
    }
   },
   "outputs": [],
   "source": [
    "import numpy as np\n",
    "from tqdm.auto import tqdm\n",
    "from matplotlib import pyplot as plt\n",
    "\n",
    "from sklearn.tree import DecisionTreeRegressor\n",
    "from sklearn.linear_model import LinearRegression\n",
    "from sklearn.datasets import make_regression"
   ]
  },
  {
   "cell_type": "code",
   "execution_count": 241,
   "id": "06110580",
   "metadata": {
    "ExecuteTime": {
     "end_time": "2023-11-06T22:57:54.664906700Z",
     "start_time": "2023-11-06T22:57:54.652389200Z"
    }
   },
   "outputs": [],
   "source": [
    "from boosting import SimplifiedBoostingRegressor"
   ]
  },
  {
   "cell_type": "markdown",
   "id": "5cfa174f",
   "metadata": {},
   "source": [
    "### Local tests:"
   ]
  },
  {
   "cell_type": "markdown",
   "id": "b54221c2",
   "metadata": {},
   "source": [
    "#### Overfitting tests:"
   ]
  },
  {
   "cell_type": "code",
   "execution_count": 242,
   "id": "84c94a8b",
   "metadata": {
    "ExecuteTime": {
     "end_time": "2023-11-06T22:57:55.787994400Z",
     "start_time": "2023-11-06T22:57:54.657906400Z"
    }
   },
   "outputs": [
    {
     "data": {
      "text/plain": "  0%|          | 0/10 [00:00<?, ?it/s]",
      "application/vnd.jupyter.widget-view+json": {
       "version_major": 2,
       "version_minor": 0,
       "model_id": "93f1d4fe4f184c33b4c29a0ad33b771a"
      }
     },
     "metadata": {},
     "output_type": "display_data"
    },
    {
     "ename": "AssertionError",
     "evalue": "Boosting should overfit with many deep trees on simple data!",
     "output_type": "error",
     "traceback": [
      "\u001B[1;31m---------------------------------------------------------------------------\u001B[0m",
      "\u001B[1;31mAssertionError\u001B[0m                            Traceback (most recent call last)",
      "Cell \u001B[1;32mIn[242], line 6\u001B[0m\n\u001B[0;32m      4\u001B[0m     boosting_regressor \u001B[38;5;241m=\u001B[39m SimplifiedBoostingRegressor()    \n\u001B[0;32m      5\u001B[0m     boosting_regressor\u001B[38;5;241m.\u001B[39mfit(DecisionTreeRegressor, X, y, \u001B[38;5;241m100\u001B[39m, \u001B[38;5;241m0.5\u001B[39m, \u001B[38;5;241m10\u001B[39m)\n\u001B[1;32m----> 6\u001B[0m     \u001B[38;5;28;01massert\u001B[39;00m boosting_regressor\u001B[38;5;241m.\u001B[39mloss_log[\u001B[38;5;241m-\u001B[39m\u001B[38;5;241m1\u001B[39m] \u001B[38;5;241m<\u001B[39m \u001B[38;5;241m1e-6\u001B[39m, \u001B[38;5;124m'\u001B[39m\u001B[38;5;124mBoosting should overfit with many deep trees on simple data!\u001B[39m\u001B[38;5;124m'\u001B[39m\n\u001B[0;32m      7\u001B[0m     \u001B[38;5;28;01massert\u001B[39;00m boosting_regressor\u001B[38;5;241m.\u001B[39mloss_log[\u001B[38;5;241m0\u001B[39m] \u001B[38;5;241m>\u001B[39m \u001B[38;5;241m1e-2\u001B[39m, \u001B[38;5;124m'\u001B[39m\u001B[38;5;124mFirst tree loos should be not to low!\u001B[39m\u001B[38;5;124m'\u001B[39m    \n\u001B[0;32m      8\u001B[0m \u001B[38;5;28mprint\u001B[39m(\u001B[38;5;124m'\u001B[39m\u001B[38;5;124mOverfitting tests done!\u001B[39m\u001B[38;5;124m'\u001B[39m)\n",
      "\u001B[1;31mAssertionError\u001B[0m: Boosting should overfit with many deep trees on simple data!"
     ]
    }
   ],
   "source": [
    "for _ in tqdm(range(10)):\n",
    "    X = np.random.randn(200, 10)\n",
    "    y = np.random.normal(0, 1, X.shape[0])\n",
    "    boosting_regressor = SimplifiedBoostingRegressor()    \n",
    "    boosting_regressor.fit(DecisionTreeRegressor, X, y, 100, 0.5, 10)\n",
    "    assert boosting_regressor.loss_log[-1] < 1e-6, 'Boosting should overfit with many deep trees on simple data!'\n",
    "    assert boosting_regressor.loss_log[0] > 1e-2, 'First tree loos should be not to low!'    \n",
    "print('Overfitting tests done!')"
   ]
  },
  {
   "cell_type": "markdown",
   "id": "17e5cfd7",
   "metadata": {},
   "source": [
    "#### Zero lr tests:"
   ]
  },
  {
   "cell_type": "code",
   "execution_count": null,
   "id": "a9e60fe4",
   "metadata": {
    "ExecuteTime": {
     "start_time": "2023-11-06T22:57:55.782994400Z"
    }
   },
   "outputs": [],
   "source": [
    "for _ in tqdm(range(10)):\n",
    "    X = np.random.randn(200, 10)\n",
    "    y = np.random.normal(0, 1, X.shape[0])\n",
    "    boosting_regressor = SimplifiedBoostingRegressor()    \n",
    "    boosting_regressor.fit(DecisionTreeRegressor, X, y, 10, 0., 10)\n",
    "    predictions = boosting_regressor.predict(X)\n",
    "    assert all(predictions == 0), 'With zero weight model should predict constant values!'\n",
    "    assert boosting_regressor.loss_log[-1] == boosting_regressor.loss_log[0], 'With zero weight model should not learn anything new!'\n",
    "print('Zero lr tests done!')"
   ]
  },
  {
   "cell_type": "markdown",
   "id": "fc2faafe",
   "metadata": {},
   "source": [
    "#### Fitting test"
   ]
  },
  {
   "cell_type": "code",
   "execution_count": null,
   "id": "2710d9cf",
   "metadata": {
    "ExecuteTime": {
     "start_time": "2023-11-06T22:57:55.784994100Z"
    }
   },
   "outputs": [],
   "source": [
    "for _ in tqdm(range(10)):\n",
    "    data, targets = make_regression(1000, 10)\n",
    "    indices = np.arange(len(data))\n",
    "    np.random.shuffle(indices)\n",
    "    data_train, targets_train = data[indices[:700]], targets[indices[:700]]\n",
    "    data_val, targets_val = data[indices[700:]], targets[indices[700:]]\n",
    "\n",
    "\n",
    "    train_loss_log = []\n",
    "    val_loss_log = []\n",
    "    for depth in range(1, 25):\n",
    "        boosting_regressor = SimplifiedBoostingRegressor()    \n",
    "\n",
    "        boosting_regressor.fit(DecisionTreeRegressor, data_train, targets_train, depth, 0.2, 5)\n",
    "        predictions_train = boosting_regressor.predict(data_train)\n",
    "        predictions_val = boosting_regressor.predict(data_val)\n",
    "        train_loss_log.append(np.mean((predictions_train-targets_train)**2))\n",
    "        val_loss_log.append(np.mean((predictions_val-targets_val)**2))\n",
    "        \n",
    "    assert train_loss_log[-2] > train_loss_log[-1] and abs(train_loss_log[-2]/train_loss_log[-1]) < 2, '{}, {}'.format(train_loss_log[-2], train_loss_log[-1])"
   ]
  },
  {
   "cell_type": "markdown",
   "id": "2eedf99c",
   "metadata": {},
   "source": [
    "Here is your convergence plot from the last run:"
   ]
  },
  {
   "cell_type": "code",
   "execution_count": null,
   "id": "1bae7383",
   "metadata": {
    "ExecuteTime": {
     "start_time": "2023-11-06T22:57:55.785994200Z"
    }
   },
   "outputs": [],
   "source": [
    "plt.plot(range(1, len(train_loss_log)+1), train_loss_log, label='train')\n",
    "plt.plot(range(1, len(val_loss_log)+1), val_loss_log, label='val')\n",
    "plt.xlabel('Ensemble size')\n",
    "plt.ylabel('Error')\n",
    "plt.legend()"
   ]
  },
  {
   "cell_type": "markdown",
   "id": "9535cb6d",
   "metadata": {},
   "source": [
    "Great job! Please, submit your solution to the grading system!"
   ]
  }
 ],
 "metadata": {
  "kernelspec": {
   "display_name": "Py3 Research",
   "language": "python",
   "name": "py3_research"
  },
  "language_info": {
   "codemirror_mode": {
    "name": "ipython",
    "version": 3
   },
   "file_extension": ".py",
   "mimetype": "text/x-python",
   "name": "python",
   "nbconvert_exporter": "python",
   "pygments_lexer": "ipython3",
   "version": "3.9.16"
  }
 },
 "nbformat": 4,
 "nbformat_minor": 5
}
